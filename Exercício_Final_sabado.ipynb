{
  "nbformat": 4,
  "nbformat_minor": 0,
  "metadata": {
    "colab": {
      "provenance": [],
      "include_colab_link": true
    },
    "kernelspec": {
      "name": "python3",
      "display_name": "Python 3"
    },
    "language_info": {
      "name": "python"
    }
  },
  "cells": [
    {
      "cell_type": "markdown",
      "metadata": {
        "id": "view-in-github",
        "colab_type": "text"
      },
      "source": [
        "<a href=\"https://colab.research.google.com/github/Andressa-Bonfim/Andressa_Exerc-cio_Final_sabado/blob/main/Exerc%C3%ADcio_Final_sabado.ipynb\" target=\"_parent\"><img src=\"https://colab.research.google.com/assets/colab-badge.svg\" alt=\"Open In Colab\"/></a>"
      ]
    },
    {
      "cell_type": "markdown",
      "source": [
        "# Contagem de Medalhas\n",
        "\n",
        "Crie um programa que receba o número de medalhas de ouro, prata e bronze de um país nas Olimpíadas e calcule o total de medalhas.\n",
        "Quando escrever 'sair', o programa deverá encerrar e mostrar na tela o ranking de medalhas no formato:"
      ],
      "metadata": {
        "id": "RQN1e5FZY6SZ"
      }
    },
    {
      "cell_type": "code",
      "source": [
        "#Ranking de medalhas:\n",
        "#Brasil: 7 medalhas\n",
        "#França: 6 medalhas\n",
        "#Argentina: 3 medalhas"
      ],
      "metadata": {
        "id": "gCq_KLHzZSzb"
      },
      "execution_count": null,
      "outputs": []
    },
    {
      "cell_type": "code",
      "execution_count": 4,
      "metadata": {
        "id": "AJJhjxiPTd5s",
        "colab": {
          "base_uri": "https://localhost:8080/"
        },
        "outputId": "d8e25c9b-0a01-4783-81b5-a9686000dc85"
      },
      "outputs": [
        {
          "output_type": "stream",
          "name": "stdout",
          "text": [
            "Digite o nome do país (ou 'sair' para encerrar): Brasil\n",
            "Quantas medalhas de ouro Brasil ganhou? 10\n",
            "Quantas medalhas de prata Brasil ganhou? 8\n",
            "Quantas medalhas de bronze Brasil ganhou? 7\n",
            "Digite o nome do país (ou 'sair' para encerrar): França\n",
            "Quantas medalhas de ouro França ganhou? 4\n",
            "Quantas medalhas de prata França ganhou? 9\n",
            "Quantas medalhas de bronze França ganhou? 5\n",
            "Digite o nome do país (ou 'sair' para encerrar): Argentina\n",
            "Quantas medalhas de ouro Argentina ganhou? 6\n",
            "Quantas medalhas de prata Argentina ganhou? 7\n",
            "Quantas medalhas de bronze Argentina ganhou? 1\n",
            "Digite o nome do país (ou 'sair' para encerrar): sair\n",
            "\n",
            "Ranking de medalhas:\n",
            "Brasil: 25 medalhas\n",
            "França: 18 medalhas\n",
            "Argentina: 14 medalhas\n"
          ]
        }
      ],
      "source": [
        "resultados = {}\n",
        "while True:\n",
        "    pais_nome = input(\"Digite o nome do país (ou 'sair' para encerrar): \")\n",
        "    if pais_nome.lower() == 'sair':\n",
        "        break\n",
        "    try:\n",
        "        medalhas_ouro = int(input(f\"Quantas medalhas de ouro {pais_nome} ganhou? \"))\n",
        "        medalhas_prata = int(input(f\"Quantas medalhas de prata {pais_nome} ganhou? \"))\n",
        "        medalhas_bronze = int(input(f\"Quantas medalhas de bronze {pais_nome} ganhou? \"))\n",
        "    except ValueError:\n",
        "        print(\"Por favor, insira um número válido de medalhas.\")\n",
        "        continue\n",
        "    total_medalhas = medalhas_ouro + medalhas_prata + medalhas_bronze\n",
        "    resultados[pais_nome] = total_medalhas\n",
        "ranking_resultados = sorted(resultados.items(), key=lambda item: item[1], reverse=True)\n",
        "print(\"\\nRanking de medalhas:\")\n",
        "for pais, total in ranking_resultados:\n",
        "    print(f\"{pais}: {total} medalhas\")\n",
        "\n"
      ]
    }
  ]
}